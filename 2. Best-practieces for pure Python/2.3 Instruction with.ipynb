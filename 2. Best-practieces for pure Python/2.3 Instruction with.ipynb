{
 "cells": [
  {
   "cell_type": "markdown",
   "metadata": {},
   "source": [
    "# 2.3 Менеджеры контекста и инструкция `with`"
   ]
  },
  {
   "cell_type": "code",
   "execution_count": 1,
   "metadata": {},
   "outputs": [],
   "source": [
    "# Copyright 2021 aaaaaaaalesha\n",
    "import sys\n",
    "import time"
   ]
  },
  {
   "cell_type": "markdown",
   "metadata": {},
   "source": [
    "## Поуправляем уровнями отступа в тексте"
   ]
  },
  {
   "cell_type": "code",
   "execution_count": 2,
   "metadata": {},
   "outputs": [],
   "source": [
    "class Indenter:\n",
    "    def __init__(self):\n",
    "        self.__offset= -1\n",
    "        \n",
    "    def __enter__(self):\n",
    "        self.__offset += 1\n",
    "        return self\n",
    "    \n",
    "    def __exit__(self, exc_type, exc_val, exc_tb):\n",
    "        self.__offset -= 1\n",
    "    \n",
    "    def print(self, msg: str ,out=sys.stdout) -> None:\n",
    "        print(\"\\t\" * self.__offset + msg, file=out)"
   ]
  },
  {
   "cell_type": "code",
   "execution_count": 3,
   "metadata": {},
   "outputs": [
    {
     "name": "stdout",
     "output_type": "stream",
     "text": [
      "Привет!\n",
      "\tздорово\n",
      "\t\tбонжур\n",
      "эй\n"
     ]
    }
   ],
   "source": [
    "# Testing...\n",
    "with Indenter() as indent:\n",
    "    indent.print(\"Привет!\")\n",
    "    with indent:\n",
    "        indent.print(\"здорово\")\n",
    "        with indent:\n",
    "            indent.print(\"бонжур\")\n",
    "    indent.print(\"эй\")"
   ]
  },
  {
   "cell_type": "markdown",
   "metadata": {},
   "source": [
    "### В качестве упражнения предлагается реализовать контекстный менеджер, измеряющий время исполнения блока программного кода с использованием функции `time.time()` в двух вариантах: на основе класса и декоратора."
   ]
  },
  {
   "cell_type": "code",
   "execution_count": 4,
   "metadata": {},
   "outputs": [],
   "source": [
    "# Implementation of simply timer based on class.\n",
    "class ClassTimer:\n",
    "    def __init__(self, out=sys.stdout):\n",
    "        self.__out = out\n",
    "        self.__start = None\n",
    "        \n",
    "    def __enter__(self):\n",
    "        self.__start = time.time()\n",
    "        \n",
    "    def __exit__(self, exc_type, exc_val, exc_tb):\n",
    "        end = time.time()\n",
    "        print(f\"The code worked for the time: {round(end - self.__start, 2)} seconds.\")"
   ]
  },
  {
   "cell_type": "code",
   "execution_count": 5,
   "metadata": {},
   "outputs": [
    {
     "name": "stdout",
     "output_type": "stream",
     "text": [
      "The code worked for the time: 3.23 seconds.\n"
     ]
    }
   ],
   "source": [
    "# Try it...\n",
    "with ClassTimer(sys.stdout) as timer:\n",
    "    time.sleep(3.222)"
   ]
  },
  {
   "cell_type": "code",
   "execution_count": 6,
   "metadata": {},
   "outputs": [],
   "source": [
    "# Implementation of simply timer based on decorator.\n",
    "from contextlib import contextmanager\n",
    "\n",
    "@contextmanager\n",
    "def timer(out=sys.stdout):\n",
    "    try:\n",
    "        start = time.time()\n",
    "        yield\n",
    "    finally:\n",
    "        end = time.time()\n",
    "        print(f\"The code worked for the time: {round(end - start, 2)} seconds.\")"
   ]
  },
  {
   "cell_type": "code",
   "execution_count": 7,
   "metadata": {},
   "outputs": [
    {
     "name": "stdout",
     "output_type": "stream",
     "text": [
      "The code worked for the time: 3.23 seconds.\n"
     ]
    }
   ],
   "source": [
    "# Try it...\n",
    "with timer() as t:\n",
    "    time.sleep(3.222)"
   ]
  }
 ],
 "metadata": {
  "kernelspec": {
   "display_name": "Python 3 (ipykernel)",
   "language": "python",
   "name": "python3"
  },
  "language_info": {
   "codemirror_mode": {
    "name": "ipython",
    "version": 3
   },
   "file_extension": ".py",
   "mimetype": "text/x-python",
   "name": "python",
   "nbconvert_exporter": "python",
   "pygments_lexer": "ipython3",
   "version": "3.8.6"
  }
 },
 "nbformat": 4,
 "nbformat_minor": 4
}