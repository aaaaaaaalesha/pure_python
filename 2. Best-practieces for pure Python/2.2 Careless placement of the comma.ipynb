{
 "cells": [
  {
   "cell_type": "markdown",
   "id": "461db3d5",
   "metadata": {},
   "source": [
    "# 2.2 Беспечное размещение запятой"
   ]
  },
  {
   "cell_type": "markdown",
   "id": "aa637067",
   "metadata": {},
   "source": [
    "При использовании константы-списка, кортежа, словаря, множества: завершайте все строки запятыми.\n",
    "\n",
    "То есть вместо:"
   ]
  },
  {
   "cell_type": "code",
   "execution_count": 1,
   "id": "e563bb5a",
   "metadata": {},
   "outputs": [],
   "source": [
    "names = ('Алексей', 'Илья', 'Виктория', 'Анна')"
   ]
  },
  {
   "cell_type": "markdown",
   "id": "410d167b",
   "metadata": {},
   "source": [
    "лучше так:"
   ]
  },
  {
   "cell_type": "code",
   "execution_count": 5,
   "id": "7cc952ac",
   "metadata": {},
   "outputs": [],
   "source": [
    "names = (\n",
    "    'Алексей', \n",
    "    'Илья', \n",
    "    'Виктория', \n",
    "    'Анна', # <- attention here\n",
    ")"
   ]
  },
  {
   "cell_type": "markdown",
   "id": "a854e76d",
   "metadata": {},
   "source": [
    "## Почему так?"
   ]
  },
  {
   "cell_type": "markdown",
   "id": "00bcdc7d",
   "metadata": {},
   "source": [
    "- Во первых для удобства работы с системами контроля версий. Как правило они плохо справляются с выделением *конкретных* изменений в одной строке. Так команда `git diff` лучше отразит нам, какой элемент коллекции был изменён.\n",
    "- Во избежание потери запятой между элементами: так если мы храним строки, то может произойти автоматическая конкатенация двух строк, которые мы бы хотели видеть отдельными элементами – ошибки в рантайме не получим.\n",
    "- Заметили запятую в конце? Она тут не просто так: такой трюк сделает добавление и удаление новых элементов проще и избавит от необходимости обновлять размещение запятой."
   ]
  }
 ],
 "metadata": {
  "kernelspec": {
   "display_name": "Python 3 (ipykernel)",
   "language": "python",
   "name": "python3"
  },
  "language_info": {
   "codemirror_mode": {
    "name": "ipython",
    "version": 3
   },
   "file_extension": ".py",
   "mimetype": "text/x-python",
   "name": "python",
   "nbconvert_exporter": "python",
   "pygments_lexer": "ipython3",
   "version": "3.8.6"
  }
 },
 "nbformat": 4,
 "nbformat_minor": 5
}
