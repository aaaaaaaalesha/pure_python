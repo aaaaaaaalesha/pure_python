{
 "cells": [
  {
   "cell_type": "markdown",
   "id": "e038e257",
   "metadata": {},
   "source": [
    "# 2.1 Прикрой свой з** инструкциями assert"
   ]
  },
  {
   "cell_type": "markdown",
   "id": "69087716",
   "metadata": {},
   "source": [
    "- `assert` – средство отладки, которое проверяет условие; если оно `True`, то ничего не происходит и программа продолжает выполнение, но если же условие возвращает `False`, то вызывается исключение `AssertionError` с необязательным сообщением об ошибке."
   ]
  },
  {
   "cell_type": "markdown",
   "id": "bfa12784",
   "metadata": {},
   "source": [
    "## Пример:"
   ]
  },
  {
   "cell_type": "code",
   "execution_count": 9,
   "id": "e13b55a2",
   "metadata": {},
   "outputs": [],
   "source": [
    "def apply_discount(product: dict, discount: float) -> int:\n",
    "    \"\"\"\n",
    "    Applies discount to current product price.\n",
    "    \n",
    "    :return: price of product with apllied discount.\n",
    "    \"\"\"\n",
    "    price = int(product[\"price\"] * (1 - discount))\n",
    "    assert 0 <= price <= product[\"price\"]\n",
    "    \n",
    "    return price"
   ]
  },
  {
   "cell_type": "code",
   "execution_count": 10,
   "id": "b60bd101",
   "metadata": {},
   "outputs": [
    {
     "data": {
      "text/plain": [
       "11175"
      ]
     },
     "execution_count": 10,
     "metadata": {},
     "output_type": "execute_result"
    }
   ],
   "source": [
    "# To avoid problems with rounding: 149,00$ -> 14900.\n",
    "shoes = {'name': \"Cool shoes\", 'price': 14900}\n",
    "\n",
    "apply_discount(shoes, 0.25)"
   ]
  },
  {
   "cell_type": "code",
   "execution_count": 11,
   "id": "74189832",
   "metadata": {},
   "outputs": [
    {
     "ename": "AssertionError",
     "evalue": "",
     "output_type": "error",
     "traceback": [
      "\u001B[1;31m---------------------------------------------------------------------------\u001B[0m",
      "\u001B[1;31mAssertionError\u001B[0m                            Traceback (most recent call last)",
      "Input \u001B[1;32mIn [11]\u001B[0m, in \u001B[0;36m<module>\u001B[1;34m\u001B[0m\n\u001B[0;32m      1\u001B[0m \u001B[38;5;66;03m# Try to apply invalid discount.\u001B[39;00m\n\u001B[0;32m      2\u001B[0m \u001B[38;5;66;03m# 200%\u001B[39;00m\n\u001B[1;32m----> 3\u001B[0m \u001B[43mapply_discount\u001B[49m\u001B[43m(\u001B[49m\u001B[43mshoes\u001B[49m\u001B[43m,\u001B[49m\u001B[43m \u001B[49m\u001B[38;5;241;43m2.\u001B[39;49m\u001B[43m)\u001B[49m\n",
      "Input \u001B[1;32mIn [9]\u001B[0m, in \u001B[0;36mapply_discount\u001B[1;34m(product, discount)\u001B[0m\n\u001B[0;32m      2\u001B[0m \u001B[38;5;124;03m\"\"\"\u001B[39;00m\n\u001B[0;32m      3\u001B[0m \u001B[38;5;124;03mApplies discount to current product price.\u001B[39;00m\n\u001B[0;32m      4\u001B[0m \u001B[38;5;124;03m\u001B[39;00m\n\u001B[0;32m      5\u001B[0m \u001B[38;5;124;03m:return: price of product with apllied discount.\u001B[39;00m\n\u001B[0;32m      6\u001B[0m \u001B[38;5;124;03m\"\"\"\u001B[39;00m\n\u001B[0;32m      7\u001B[0m price \u001B[38;5;241m=\u001B[39m \u001B[38;5;28mint\u001B[39m(product[\u001B[38;5;124m\"\u001B[39m\u001B[38;5;124mprice\u001B[39m\u001B[38;5;124m\"\u001B[39m] \u001B[38;5;241m*\u001B[39m (\u001B[38;5;241m1\u001B[39m \u001B[38;5;241m-\u001B[39m discount))\n\u001B[1;32m----> 8\u001B[0m \u001B[38;5;28;01massert\u001B[39;00m \u001B[38;5;241m0\u001B[39m \u001B[38;5;241m<\u001B[39m\u001B[38;5;241m=\u001B[39m price \u001B[38;5;241m<\u001B[39m\u001B[38;5;241m=\u001B[39m product[\u001B[38;5;124m\"\u001B[39m\u001B[38;5;124mprice\u001B[39m\u001B[38;5;124m\"\u001B[39m]\n\u001B[0;32m     10\u001B[0m \u001B[38;5;28;01mreturn\u001B[39;00m price\n",
      "\u001B[1;31mAssertionError\u001B[0m: "
     ]
    }
   ],
   "source": [
    "# Try to apply invalid discount.\n",
    "# 200%\n",
    "apply_discount(shoes, 2.)"
   ]
  },
  {
   "cell_type": "markdown",
   "id": "e949ac97",
   "metadata": {},
   "source": [
    "## Почему бы просто не пробросить исключение?"
   ]
  },
  {
   "cell_type": "markdown",
   "id": "f6746601",
   "metadata": {},
   "source": [
    "- Дело в том, что инструкция `assert` предназначена для того, чтобы сообщать разработчикам о *неустранимых* ошибках в программе.\n",
    "\n",
    "- Инструкция `assert` **не предназначена** для того, чтобы сигнализировать об ожидаемых ошибочных условиях (таких как: \"File was not found\"), где пользователь может предпринять корректирующие действия или просто попробовать ещё раз.\n",
    "\n",
    "- Инструкции `assert` призваны быть *внутренними самопроверками* (***internal selfchecks***) нашей программы. Они работают путём выявления условий ***возникновение которых в исходном коде невозможно*** и дают понять, что в программе есть ошибка."
   ]
  },
  {
   "cell_type": "markdown",
   "id": "3b55d516",
   "metadata": {},
   "source": [
    "***Главный поинт:*** `assert` – *средство отладки*, а не *механизм обработки ошибок в рантайме*! \n",
    "**Если в программе нет ошибок, исключение** `AssertionError` **никогда не должно возникнуть.**"
   ]
  },
  {
   "cell_type": "markdown",
   "id": "927edc3b",
   "metadata": {},
   "source": [
    "## Синтаксис инструкции `assert`"
   ]
  },
  {
   "cell_type": "markdown",
   "id": "1262af08",
   "metadata": {},
   "source": [
    "Синтаксис инструкции `assert` в соответствии с [docs.python.org](https://docs.python.org/3/reference/simple_stmts.html#the-assert-statement):\n",
    "\n",
    "```python\n",
    "# [\",\" expression2] is optional\n",
    "assert_stmt ::=  \"assert\" expression1 [\",\" expression2]\n",
    "```\n",
    "\n",
    "Во время исполнения интерпретатор Python преобразовывает каждую инструкцию `assert` в нечто подобное:\n",
    "\n",
    "```python\n",
    "if __debug__: # is a gloabal variable which is False, if optimization requested.\n",
    "    if not expression1:\n",
    "        raise AssertionError(expression2)\n",
    "```"
   ]
  },
  {
   "cell_type": "markdown",
   "id": "6a879119",
   "metadata": {},
   "source": [
    "## Предостережение № 1: не используйте `assert` для проверки данных"
   ]
  },
  {
   "cell_type": "markdown",
   "id": "e3430f8f",
   "metadata": {},
   "source": [
    "Дело в том, что флаги `-O` и `-OO`, а также переменная `PYTHONOPTIMIZE` в CPython способны превратить любую инструкцию `assert` в `nop` (нулевую операцию), так как глобальная переменная `__debug__` станет `False`."
   ]
  },
  {
   "cell_type": "markdown",
   "id": "3e968683",
   "metadata": {},
   "source": [
    "Рассмотрим код:"
   ]
  },
  {
   "cell_type": "code",
   "execution_count": 15,
   "id": "d709ac32",
   "metadata": {},
   "outputs": [],
   "source": [
    "def delete_product(prod_id: int, user):\n",
    "    assert user.is_admin, \"there is admin here\"\n",
    "    assert store.has_product(prod_id), \"unexpected product\"\n",
    "    store.get_product(prod_id).delete()"
   ]
  },
  {
   "cell_type": "markdown",
   "id": "80b4789b",
   "metadata": {},
   "source": [
    "Что же произойдёт, если `assert` будут отключены:\n",
    "- проверка полномочий админа несёт опасность: любой пользователь сможет удалять товары;\n",
    "- проверка наличия продукта пропускается: теперь `get_product` допускается к несуществующим товарам;\n",
    "\n",
    "Исправим код!"
   ]
  },
  {
   "cell_type": "code",
   "execution_count": 17,
   "id": "5a615bfd",
   "metadata": {},
   "outputs": [],
   "source": [
    "def delete_product(prod_id: int, user):\n",
    "    if not user.is_admin():\n",
    "        raise AuthError(\"Administrator rights are required for product deleting\")    \n",
    "    if not store.has_product(prod_id):\n",
    "        raise ValueError(\"Unexpected product id\")   \n",
    "    store.get_product(prod_id).delete()"
   ]
  },
  {
   "cell_type": "markdown",
   "id": "3744f9b5",
   "metadata": {},
   "source": [
    "## Предостережение № 2: не используйте `assert`, если она вообще не может дать сбой"
   ]
  },
  {
   "cell_type": "code",
   "execution_count": 20,
   "id": "975fa360",
   "metadata": {},
   "outputs": [
    {
     "name": "stderr",
     "output_type": "stream",
     "text": [
      "<>:2: SyntaxWarning: assertion is always true, perhaps remove parentheses?\n",
      "<>:2: SyntaxWarning: assertion is always true, perhaps remove parentheses?\n",
      "C:\\Users\\sks23\\AppData\\Local\\Temp\\ipykernel_12588\\22450635.py:2: SyntaxWarning: assertion is always true, perhaps remove parentheses?\n",
      "  assert (\n"
     ]
    }
   ],
   "source": [
    "counter = 123\n",
    "assert (\n",
    "    counter == 10,\n",
    "    'This could be count all elements'\n",
    ")"
   ]
  },
  {
   "cell_type": "markdown",
   "id": "264d6a1d",
   "metadata": {},
   "source": [
    "Объект-кортеж всегда выполнит каст в `True`, так как он не пуст – получаем соответствующий `SyntaxWarning`."
   ]
  }
 ],
 "metadata": {
  "kernelspec": {
   "display_name": "Python 3 (ipykernel)",
   "language": "python",
   "name": "python3"
  },
  "language_info": {
   "codemirror_mode": {
    "name": "ipython",
    "version": 3
   },
   "file_extension": ".py",
   "mimetype": "text/x-python",
   "name": "python",
   "nbconvert_exporter": "python",
   "pygments_lexer": "ipython3",
   "version": "3.8.6"
  }
 },
 "nbformat": 4,
 "nbformat_minor": 5
}