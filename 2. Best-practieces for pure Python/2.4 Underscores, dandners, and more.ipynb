{
 "cells": [
  {
   "cell_type": "markdown",
   "id": "0990e1d4",
   "metadata": {},
   "source": [
    "# 2.4 Подчёркивания, данднеры и другое"
   ]
  },
  {
   "cell_type": "markdown",
   "id": "8371bd1c",
   "metadata": {},
   "source": [
    "У символов одинарного и двойного подчёркивания в Python есть особый смысл в именах переменных и методов. Обсудим следующие шаблоны подчёркивания, согласованные правила именования и то, как они влияют на поведение программ Python."
   ]
  },
  {
   "cell_type": "markdown",
   "id": "5aea6e72",
   "metadata": {},
   "source": [
    "### 1. Одинарный префикс подчёркивания: `_var` "
   ]
  },
  {
   "cell_type": "markdown",
   "id": "fbdb9df4",
   "metadata": {},
   "source": [
    "Одинарные префикс подчеркивания являются в Python согласованным правилом именования, которое говорит о том, что то или иное имя предназначается для внутреннего использования. Это договорное правило обычно интерпретатором Python не обеспечивается и предназначено для программиста только в качестве подсказки."
   ]
  },
  {
   "cell_type": "code",
   "execution_count": 1,
   "id": "f4371609",
   "metadata": {},
   "outputs": [],
   "source": [
    "class Test:\n",
    "    def __init__(self):\n",
    "        self.foo = 11\n",
    "        self._bar = 23"
   ]
  },
  {
   "cell_type": "code",
   "execution_count": 3,
   "id": "211a15cc",
   "metadata": {},
   "outputs": [
    {
     "data": {
      "text/plain": [
       "11"
      ]
     },
     "execution_count": 3,
     "metadata": {},
     "output_type": "execute_result"
    }
   ],
   "source": [
    "t = Test()\n",
    "t.foo"
   ]
  },
  {
   "cell_type": "code",
   "execution_count": 5,
   "id": "1f567e15",
   "metadata": {},
   "outputs": [
    {
     "data": {
      "text/plain": [
       "23"
      ]
     },
     "execution_count": 5,
     "metadata": {},
     "output_type": "execute_result"
    }
   ],
   "source": [
    "t._bar"
   ]
  },
  {
   "cell_type": "markdown",
   "id": "a81b60c8",
   "metadata": {},
   "source": [
    "Как видите, одинарный начальный символ подчеркивания в `_bar` не помешал нам «залезть» в класс и получить доступ к значению этой переменной."
   ]
  },
  {
   "cell_type": "markdown",
   "id": "064946df",
   "metadata": {},
   "source": [
    "Вместе с тем начальные символы подчеркивания влияют на то, как имена импортируются из модулей. Предположим, что у вас есть модуль my_module и в нем есть следующий фрагмент кода:"
   ]
  },
  {
   "cell_type": "code",
   "execution_count": 6,
   "id": "23fb793b",
   "metadata": {},
   "outputs": [],
   "source": [
    "# my_module.py:\n",
    "\n",
    "def external_func():\n",
    "    return 23\n",
    "\n",
    "def _internal_func():\n",
    "    return 42"
   ]
  },
  {
   "cell_type": "markdown",
   "id": "8cea9342",
   "metadata": {},
   "source": [
    "Так вот, если для импорта всех имен из модуля вы будете использовать подстановочный импорт (*wildcard import*) (*), то Python не будет импортировать имена с начальным символом подчеркивания (если только в модуле не определен список `__all__`, который отменяет такое поведение)"
   ]
  },
  {
   "cell_type": "markdown",
   "id": "6282ea3f",
   "metadata": {},
   "source": [
    "```python\n",
    "from my_module import *\n",
    ">>> external_func()\n",
    "23\n",
    ">>> _internal_func() NameError: \"name '_internal_func' is not defined\"\n",
    "```"
   ]
  },
  {
   "cell_type": "markdown",
   "id": "086470ea",
   "metadata": {},
   "source": [
    "### 2. Одинарный постфикс подчёркивания: `var_` "
   ]
  },
  {
   "cell_type": "markdown",
   "id": "e22c88f5",
   "metadata": {},
   "source": [
    "В общих чертах, замыкающий одинарный постфикс подчеркивания используется по договоренности PEP8, чтобы избежать конфликтов изза совпадения имен с ключевыми словами Python."
   ]
  },
  {
   "cell_type": "code",
   "execution_count": 10,
   "id": "321d88bc",
   "metadata": {},
   "outputs": [
    {
     "ename": "SyntaxError",
     "evalue": "invalid syntax (2655473431.py, line 1)",
     "output_type": "error",
     "traceback": [
      "\u001b[1;36m  Input \u001b[1;32mIn [10]\u001b[1;36m\u001b[0m\n\u001b[1;33m    def make_object(name, class): # <- SyntaxError\u001b[0m\n\u001b[1;37m                          ^\u001b[0m\n\u001b[1;31mSyntaxError\u001b[0m\u001b[1;31m:\u001b[0m invalid syntax\n"
     ]
    }
   ],
   "source": [
    "def make_object(name, class): # <- SyntaxError\n",
    "    pass"
   ]
  },
  {
   "cell_type": "code",
   "execution_count": 11,
   "id": "5df30e24",
   "metadata": {},
   "outputs": [],
   "source": [
    " def make_object(name, class_):\n",
    "        pass"
   ]
  },
  {
   "cell_type": "markdown",
   "id": "64c02126",
   "metadata": {},
   "source": [
    "### 3. Двойной префикс подчёркивания: `__var` "
   ]
  },
  {
   "cell_type": "markdown",
   "id": "83098be0",
   "metadata": {},
   "source": [
    "Префикс, состоящий из двойного символа подчеркивания, заставляет интерпретатор Python переписывать имя атрибута для того, чтобы в подклассах избежать конфликтов из-за совпадения имен.\n",
    "\n",
    "Такое переписывание также называется искажением имени (*name mangling*) — интерпретатор преобразует имя переменной таким образом, что становится сложнее создать конфликты, когда позже класс будет расширен."
   ]
  },
  {
   "cell_type": "code",
   "execution_count": 16,
   "id": "20781fbb",
   "metadata": {},
   "outputs": [],
   "source": [
    "class Test:\n",
    "    def __init__(self):\n",
    "        self.foo = 11\n",
    "        self._bar = 23\n",
    "        self.__baz = 42"
   ]
  },
  {
   "cell_type": "code",
   "execution_count": 17,
   "id": "f3e9bc0c",
   "metadata": {},
   "outputs": [
    {
     "data": {
      "text/plain": [
       "['_Test__baz',\n",
       " '__class__',\n",
       " '__delattr__',\n",
       " '__dict__',\n",
       " '__dir__',\n",
       " '__doc__',\n",
       " '__eq__',\n",
       " '__format__',\n",
       " '__ge__',\n",
       " '__getattribute__',\n",
       " '__gt__',\n",
       " '__hash__',\n",
       " '__init__',\n",
       " '__init_subclass__',\n",
       " '__le__',\n",
       " '__lt__',\n",
       " '__module__',\n",
       " '__ne__',\n",
       " '__new__',\n",
       " '__reduce__',\n",
       " '__reduce_ex__',\n",
       " '__repr__',\n",
       " '__setattr__',\n",
       " '__sizeof__',\n",
       " '__str__',\n",
       " '__subclasshook__',\n",
       " '__weakref__',\n",
       " '_bar',\n",
       " 'foo']"
      ]
     },
     "execution_count": 17,
     "metadata": {},
     "output_type": "execute_result"
    }
   ],
   "source": [
    "dir(Test())"
   ]
  },
  {
   "cell_type": "markdown",
   "id": "28d61fc9",
   "metadata": {},
   "source": [
    "- Прежде всего, в списке атрибутов переменная `self.foo` появляется неизмененной как `foo`.\n",
    "- Далее, `self._bar` ведет себя таким же образом — она обнаруживается в классе как `_bar`.\n",
    "- Наконец, `self.__baz` интерпретатор скрыл за `_Test__baz`. Это и есть искажение имени, которое применяет интерпретатор Python."
   ]
  },
  {
   "cell_type": "code",
   "execution_count": 18,
   "id": "21044a7f",
   "metadata": {},
   "outputs": [
    {
     "data": {
      "text/plain": [
       "42"
      ]
     },
     "execution_count": 18,
     "metadata": {},
     "output_type": "execute_result"
    }
   ],
   "source": [
    "Test()._Test__baz"
   ]
  },
  {
   "cell_type": "markdown",
   "id": "e18556fb",
   "metadata": {},
   "source": [
    "## Экскурс: что такое дандеры?"
   ]
  },
  {
   "cell_type": "markdown",
   "id": "7f478ff7",
   "metadata": {},
   "source": [
    "В сообществе Python двойные символы подчеркивания часто называют «дандерами» (dunders — это сокращение от англ. double underscores). Причина в том, что в исходном коде Python двойные символы подчеркивания\n",
    "встречаются довольно часто, и, для простоты, питонисты нередко сокращают термин «двойное подчеркивание», сводя его до «дандера»."
   ]
  },
  {
   "cell_type": "markdown",
   "id": "7853c82f",
   "metadata": {},
   "source": [
    "Например, переменная `__baz` будет произноситься как «дандер baz». Аналогичным образом, метод `__init__` звучит как «дандер init», хотя будет логичным предположить, что так: «дандер init дандер»."
   ]
  },
  {
   "cell_type": "markdown",
   "id": "f9856975",
   "metadata": {},
   "source": [
    "## 4. Двойной префикс и постфикс подчеркивания: `__var__`"
   ]
  },
  {
   "cell_type": "markdown",
   "id": "d4052b3f",
   "metadata": {},
   "source": [
    "Искажение имен не применяется, если имя начинается и заканчивается двойными символами подчеркивания. Интерпретатор Python не трогает переменные, окруженные префиксом\n",
    "и постфиксом, которые состоят из двойных символов подчеркивания:"
   ]
  },
  {
   "cell_type": "code",
   "execution_count": 21,
   "id": "cddcb5e3",
   "metadata": {},
   "outputs": [],
   "source": [
    "class PrefixPostfixTest:\n",
    "    def __init__(self):\n",
    "        self.__bam__ = 42"
   ]
  },
  {
   "cell_type": "code",
   "execution_count": 22,
   "id": "99fda90a",
   "metadata": {},
   "outputs": [
    {
     "data": {
      "text/plain": [
       "42"
      ]
     },
     "execution_count": 22,
     "metadata": {},
     "output_type": "execute_result"
    }
   ],
   "source": [
    " PrefixPostfixTest().__bam__"
   ]
  },
  {
   "cell_type": "markdown",
   "id": "3c800a2e",
   "metadata": {},
   "source": [
    "Однако имена, у которых есть начальный и замыкающий двойной символ подчеркивания, в языке зарезервированы для так называемых ***дандер-методов*** или *магических методов*, таких как `__init__`, `__call__`, `__str__` и тд"
   ]
  },
  {
   "cell_type": "markdown",
   "id": "83dee439",
   "metadata": {},
   "source": [
    "## 5. Одинарный символ подчеркивания: `_`"
   ]
  },
  {
   "cell_type": "markdown",
   "id": "c057151e",
   "metadata": {},
   "source": [
    "По договоренности одинарный автономный символ подчеркивания иногда используется в качестве имени, чтобы подчеркнуть, что эта переменная временная или незначительная."
   ]
  },
  {
   "cell_type": "code",
   "execution_count": 28,
   "id": "5f35edcb",
   "metadata": {},
   "outputs": [
    {
     "name": "stdout",
     "output_type": "stream",
     "text": [
      "Привет, Мир.\n",
      "Привет, Мир.\n",
      "Привет, Мир.\n"
     ]
    }
   ],
   "source": [
    "for _ in range(3):\n",
    "    print('Привет, Мир.')"
   ]
  },
  {
   "cell_type": "code",
   "execution_count": 29,
   "id": "0cf034d9",
   "metadata": {},
   "outputs": [],
   "source": [
    "car = ('красный', 'легковой автомобиль', 12, 3812.4)\n",
    "color, _, _, mileage = car"
   ]
  },
  {
   "cell_type": "markdown",
   "id": "d676111c",
   "metadata": {},
   "source": [
    "## Ключевые выводы\n",
    "\n",
    "- **Одинарный начальный символ подчеркивания `_var`**: согласованное правило именования, указывающее на то, что имя предназначается для внутреннего использования. Обычно не обеспечивается интерпретатором Python (за исключением подстановочного импорта) и нужно только как подсказка программистам.\n",
    "- **Одинарный замыкающий символ подчеркивания `var_`**: используется по договоренности, чтобы избежать конфликтов с ключевыми словами Python, которые могут возникнуть из-за совпадения имен.\n",
    "- **Двойной начальный символ подчеркивания `__var`**: запускает механизм искажения имен при использовании в контексте класса. Обеспечивается интерпретатором Python.\n",
    "- **Двойной начальный и замыкающий символ подчеркивания `__var__`**: указывает на специальные методы, определенные языком Python. Следует избегать этой схемы именования для своих собственных атрибутов.\n",
    "- **Одинарный символ подчеркивания `_`**: иногда используется в качестве имени временных или незначительных переменных («неважных»). Кроме того, он представляет результат последнего выражения в сеансе интерпретатора REPL Python."
   ]
  }
 ],
 "metadata": {
  "kernelspec": {
   "display_name": "Python 3 (ipykernel)",
   "language": "python",
   "name": "python3"
  },
  "language_info": {
   "codemirror_mode": {
    "name": "ipython",
    "version": 3
   },
   "file_extension": ".py",
   "mimetype": "text/x-python",
   "name": "python",
   "nbconvert_exporter": "python",
   "pygments_lexer": "ipython3",
   "version": "3.8.6"
  }
 },
 "nbformat": 4,
 "nbformat_minor": 5
}
