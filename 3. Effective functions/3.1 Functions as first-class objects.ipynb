{
 "cells": [
  {
   "cell_type": "markdown",
   "id": "47f195f1",
   "metadata": {},
   "source": [
    "# 3.1 Функции в Python – это объекты первого класса"
   ]
  },
  {
   "cell_type": "markdown",
   "id": "3262ad1f",
   "metadata": {},
   "source": [
    "Функции Python относятся к **объектам первого класса**: их можно присваивать переменным, хранить их в структурах данных, передавать их в качестве аргументов другим функциям и даже возвращать их в качестве значений из других функций.\n",
    "\n",
    "На протяжении всей этой главы будет использоваться привелённая ниже функция `yell`. Это простой игрушечный пример с легко распознаваемым результатом:"
   ]
  },
  {
   "cell_type": "code",
   "execution_count": 1,
   "id": "0558cec0",
   "metadata": {},
   "outputs": [],
   "source": [
    "def yell(text: str) -> str:\n",
    "    return text.upper() + '!'"
   ]
  },
  {
   "cell_type": "code",
   "execution_count": 2,
   "id": "af489d3e",
   "metadata": {},
   "outputs": [
    {
     "data": {
      "text/plain": [
       "'ПРИВЕТ!'"
      ]
     },
     "execution_count": 2,
     "metadata": {},
     "output_type": "execute_result"
    }
   ],
   "source": [
    "yell('привет')"
   ]
  },
  {
   "cell_type": "markdown",
   "id": "42d26874",
   "metadata": {},
   "source": [
    "## Функции — это объекты"
   ]
  },
  {
   "cell_type": "markdown",
   "id": "aceda758",
   "metadata": {},
   "source": [
    "Поскольку функция `yell` в Python является объектом, вы можете ее присвоить еще одной переменной, точно так же, как это происходит с любымдругим объектом:"
   ]
  },
  {
   "cell_type": "code",
   "execution_count": 3,
   "id": "2d5b32a4",
   "metadata": {},
   "outputs": [],
   "source": [
    "bark = yell"
   ]
  },
  {
   "cell_type": "markdown",
   "id": "0299b3cd",
   "metadata": {},
   "source": [
    "Эта строка кода не вызывает функцию. Она берет объект-функцию, на который ссылается имя `yell`, и создает второе имя, `bark`, которое на него указывает. "
   ]
  },
  {
   "cell_type": "code",
   "execution_count": 4,
   "id": "c2596591",
   "metadata": {},
   "outputs": [
    {
     "data": {
      "text/plain": [
       "'ГАВ!'"
      ]
     },
     "execution_count": 4,
     "metadata": {},
     "output_type": "execute_result"
    }
   ],
   "source": [
    "bark('гав')"
   ]
  },
  {
   "cell_type": "markdown",
   "id": "b2eee35f",
   "metadata": {},
   "source": [
    "Объекты-функции и их имена — это две отдельные компетенции: вы можете удалить первоначальное имя функции `yell`, и, поскольку еще одно имя `bark` по-прежнему указывает на лежащую в основе функцию, вы все так же можете через него вызвать эту функцию:"
   ]
  },
  {
   "cell_type": "code",
   "execution_count": 5,
   "id": "d2cee7bd",
   "metadata": {},
   "outputs": [],
   "source": [
    "del yell"
   ]
  },
  {
   "cell_type": "code",
   "execution_count": 6,
   "id": "19fd4b0f",
   "metadata": {},
   "outputs": [
    {
     "ename": "NameError",
     "evalue": "name 'yell' is not defined",
     "output_type": "error",
     "traceback": [
      "\u001b[1;31m---------------------------------------------------------------------------\u001b[0m",
      "\u001b[1;31mNameError\u001b[0m                                 Traceback (most recent call last)",
      "Input \u001b[1;32mIn [6]\u001b[0m, in \u001b[0;36m<module>\u001b[1;34m\u001b[0m\n\u001b[1;32m----> 1\u001b[0m \u001b[43myell\u001b[49m(\u001b[38;5;124m'\u001b[39m\u001b[38;5;124mПривет?\u001b[39m\u001b[38;5;124m'\u001b[39m)\n",
      "\u001b[1;31mNameError\u001b[0m: name 'yell' is not defined"
     ]
    }
   ],
   "source": [
    "yell('Привет?')"
   ]
  },
  {
   "cell_type": "code",
   "execution_count": null,
   "id": "4321daa0",
   "metadata": {},
   "outputs": [],
   "source": [
    "bark('гав')"
   ]
  },
  {
   "cell_type": "code",
   "execution_count": null,
   "id": "27613d4c",
   "metadata": {},
   "outputs": [],
   "source": [
    "bark.__name__ # just for debug"
   ]
  },
  {
   "cell_type": "markdown",
   "id": "026a8441",
   "metadata": {},
   "source": [
    "## Функции могут храниться в структурах данных"
   ]
  },
  {
   "cell_type": "code",
   "execution_count": null,
   "id": "59f7a063",
   "metadata": {},
   "outputs": [],
   "source": [
    "funcs = [bark, str.lower, str.capitalize]"
   ]
  },
  {
   "cell_type": "code",
   "execution_count": null,
   "id": "d32b17c5",
   "metadata": {},
   "outputs": [],
   "source": [
    "funcs"
   ]
  },
  {
   "cell_type": "code",
   "execution_count": null,
   "id": "9f3ebf5a",
   "metadata": {},
   "outputs": [],
   "source": [
    "for f in funcs:\n",
    "    print(f, f('строчка'))"
   ]
  },
  {
   "cell_type": "code",
   "execution_count": null,
   "id": "25282afd",
   "metadata": {},
   "outputs": [],
   "source": [
    "funcs[0]('приветище')"
   ]
  },
  {
   "cell_type": "markdown",
   "id": "6cd510e5",
   "metadata": {},
   "source": [
    "## Функции могут передаваться другим функциям"
   ]
  },
  {
   "cell_type": "markdown",
   "id": "340650cf",
   "metadata": {},
   "source": [
    "Вот функция `greet`, которая форматирует строковое значение приветствия, используя переданный в нее объект-функцию, и затем его печатает:"
   ]
  },
  {
   "cell_type": "code",
   "execution_count": null,
   "id": "97ff5bf3",
   "metadata": {},
   "outputs": [],
   "source": [
    "def greet(func):\n",
    "    greeting = func('Привет! Я — программа Python')\n",
    "    print(greeting)"
   ]
  },
  {
   "cell_type": "code",
   "execution_count": null,
   "id": "6035ee4b",
   "metadata": {},
   "outputs": [],
   "source": [
    "greet(bark)"
   ]
  },
  {
   "cell_type": "markdown",
   "id": "49f51e3c",
   "metadata": {},
   "source": [
    "Функции, которые в качестве аргументов могут принимать другие функции, также называются ***функциями более высокого порядка (higher-order functions)***. Они являются непременным условием функционального стиля программирования."
   ]
  },
  {
   "cell_type": "markdown",
   "id": "d51dcba7",
   "metadata": {},
   "source": [
    "Классическим примером функций более высокого порядка является встроенная функция `map`. Она принимает объект-функцию и итерируемый объект и затем вызывает эту функцию с каждым элементом итерируемого объекта, выдавая результат по мере его прохождения."
   ]
  },
  {
   "cell_type": "code",
   "execution_count": null,
   "id": "78072814",
   "metadata": {},
   "outputs": [],
   "source": [
    "list(map(bark, ['здравствуй', 'эй', 'привет']))"
   ]
  },
  {
   "cell_type": "markdown",
   "id": "114e94a0",
   "metadata": {},
   "source": [
    "## Функции могут быть вложенными"
   ]
  },
  {
   "cell_type": "markdown",
   "id": "e315675c",
   "metadata": {},
   "source": [
    "Python допускает определение функций внутри других функций. Такие функции нередко называются ***вложенными функциями (nested functions)***, или ***внутренними функциями (inner functions)***. Приведем пример:"
   ]
  },
  {
   "cell_type": "code",
   "execution_count": null,
   "id": "478fdeb0",
   "metadata": {},
   "outputs": [],
   "source": [
    "def speak(text: str) -> str:\n",
    "    def whisper(t: str) -> str:\n",
    "        return t.lower() + '...'\n",
    "    return whisper(text) "
   ]
  },
  {
   "cell_type": "code",
   "execution_count": null,
   "id": "027d239b",
   "metadata": {},
   "outputs": [],
   "source": [
    "speak('Привет, Мир')"
   ]
  },
  {
   "cell_type": "markdown",
   "id": "08c4c196",
   "metadata": {},
   "source": [
    "функция `whisper` не существует за пределами функции `speak`:"
   ]
  },
  {
   "cell_type": "code",
   "execution_count": null,
   "id": "aa6d9ce1",
   "metadata": {},
   "outputs": [],
   "source": [
    "whisper('Йоу')"
   ]
  },
  {
   "cell_type": "markdown",
   "id": "02e13b65",
   "metadata": {},
   "source": [
    "Рассмотрим ещё пример. Ниже приведена функция, определяющая две внутренние функции. В зависимости от аргумента, передаваемого в функцию верхнего уровня, она выбирает и возвращает источнику вызова одну из внутренних функций:"
   ]
  },
  {
   "cell_type": "code",
   "execution_count": null,
   "id": "c6d90f56",
   "metadata": {},
   "outputs": [],
   "source": [
    "def get_speak_func(volume):\n",
    "    def whisper(text):\n",
    "        return text.lower() + '...'\n",
    "    def yell(text):\n",
    "        return text.upper() + '!'\n",
    "    \n",
    "    if volume > 0.5:\n",
    "        return yell\n",
    "    else:\n",
    "        return whisper"
   ]
  },
  {
   "cell_type": "markdown",
   "id": "5b829602",
   "metadata": {},
   "source": [
    "Это означает, что функции не только могут *принимать линии поведения* через аргументы, но и ***возвращать линии поведения***. "
   ]
  },
  {
   "cell_type": "code",
   "execution_count": null,
   "id": "106af9ef",
   "metadata": {},
   "outputs": [],
   "source": [
    "speak_func = get_speak_func(0.7)\n",
    "speak_func('Привет') "
   ]
  },
  {
   "cell_type": "code",
   "execution_count": null,
   "id": "94690f62",
   "metadata": {},
   "outputs": [],
   "source": [
    "speak_func = get_speak_func(0.3)\n",
    "speak_func('Привет') "
   ]
  },
  {
   "cell_type": "markdown",
   "id": "3dce2ad4",
   "metadata": {},
   "source": [
    "## Функции могут захватывать локальное состояние"
   ]
  },
  {
   "cell_type": "markdown",
   "id": "25a7ddd0",
   "metadata": {},
   "source": [
    "Мало того что функции могут возвращать другие функции, эти внутренние функции также могут захватывать и уносить с собой часть состояния родительской функции. И что же это означает? Немного перепишем предыдущий пример:"
   ]
  },
  {
   "cell_type": "code",
   "execution_count": null,
   "id": "d804f084",
   "metadata": {},
   "outputs": [],
   "source": [
    "def get_speak_func(text: str, volume: float):\n",
    "    def whisper():\n",
    "        return text.lower() + '...'\n",
    "    def yell():\n",
    "        return text.upper() + '!'\n",
    "    \n",
    "    if volume > 0.5:\n",
    "        return yell\n",
    "    else:\n",
    "        return whisper"
   ]
  },
  {
   "cell_type": "code",
   "execution_count": null,
   "id": "a8454320",
   "metadata": {},
   "outputs": [],
   "source": [
    "get_speak_func('Привет, Мир', 0.7)() "
   ]
  },
  {
   "cell_type": "markdown",
   "id": "f72a9ec3",
   "metadata": {},
   "source": [
    "Как видно, теперь `whisper` и `yell` не имеют собственных аргументов, а захватывают значение параметра `text` извне.\n",
    "\n",
    "Функции, которые это делают, называются ***лексическими замыканиями (lexical closures)*** (или, для краткости, просто *замыканиями*). Замыкание помнит значения из своего лексического контекста, даже когда поток управления программы больше не находится в этом контексте."
   ]
  },
  {
   "cell_type": "markdown",
   "id": "8e189eef",
   "metadata": {},
   "source": [
    "Так мы можем предварительно конфигурировать линии поведения. Ниже приведен еще один скелетный пример, который иллюстрирует эту идею:"
   ]
  },
  {
   "cell_type": "code",
   "execution_count": null,
   "id": "04bb1821",
   "metadata": {},
   "outputs": [],
   "source": [
    "def make_adder(n):\n",
    "    def add(x):\n",
    "        return x + n\n",
    "    \n",
    "    return add"
   ]
  },
  {
   "cell_type": "code",
   "execution_count": null,
   "id": "3c9a0ad8",
   "metadata": {},
   "outputs": [],
   "source": [
    "plus_3 = make_adder(3)\n",
    "plus_5 = make_adder(5)"
   ]
  },
  {
   "cell_type": "code",
   "execution_count": null,
   "id": "587b8008",
   "metadata": {},
   "outputs": [],
   "source": [
    "plus_3(4) "
   ]
  },
  {
   "cell_type": "code",
   "execution_count": null,
   "id": "dc5cd893",
   "metadata": {},
   "outputs": [],
   "source": [
    "plus_5(4)"
   ]
  },
  {
   "cell_type": "markdown",
   "id": "c9256f51",
   "metadata": {},
   "source": [
    "В данном примере `make_adder` служит ***фабрикой*** для создания и конфигурирования *функций-«сумматоров»*. Обратите внимание на то, что *функции-«сумматоры»* по-прежнему могут получать доступ к аргументу `n` функции `make_adder` (объемлющему контексту)."
   ]
  },
  {
   "cell_type": "markdown",
   "id": "bf541b42",
   "metadata": {},
   "source": [
    "## Объекты могут вести себя как функции"
   ]
  },
  {
   "cell_type": "markdown",
   "id": "30df6070",
   "metadata": {},
   "source": [
    "Объекты можно сделать вызываемыми (callable), реализовав для них соответствующий дандер-метод `__call__`:"
   ]
  },
  {
   "cell_type": "code",
   "execution_count": null,
   "id": "f07c6ef5",
   "metadata": {},
   "outputs": [],
   "source": [
    "class Adder:\n",
    "    def __init__(self, n):\n",
    "        self.n = n\n",
    "        \n",
    "    def __call__(self, x):\n",
    "        return self.n + x "
   ]
  },
  {
   "cell_type": "code",
   "execution_count": null,
   "id": "c61209c0",
   "metadata": {},
   "outputs": [],
   "source": [
    "plus_3 = Adder(3)\n",
    "plus_3(4)"
   ]
  },
  {
   "cell_type": "markdown",
   "id": "4bb03c4e",
   "metadata": {},
   "source": [
    "За кадром «вызов» экземпляра объекта в качестве функции сводится к исполнению метода `__call__` этого объекта."
   ]
  },
  {
   "cell_type": "markdown",
   "id": "cc334fb5",
   "metadata": {},
   "source": [
    "Безусловно, не все объекты будут вызываемыми. Вот почему существует встроенная функция `callable`, которая проверяет, является объект вызываемым или нет:"
   ]
  },
  {
   "cell_type": "code",
   "execution_count": null,
   "id": "9d5cb7a9",
   "metadata": {},
   "outputs": [],
   "source": [
    "callable(plus_3)"
   ]
  },
  {
   "cell_type": "code",
   "execution_count": null,
   "id": "8f24dce5",
   "metadata": {},
   "outputs": [],
   "source": [
    "callable(bark)"
   ]
  },
  {
   "cell_type": "code",
   "execution_count": null,
   "id": "a2995e16",
   "metadata": {},
   "outputs": [],
   "source": [
    "callable(str())"
   ]
  },
  {
   "cell_type": "markdown",
   "id": "3c8017a1",
   "metadata": {},
   "source": [
    "## Ключевые выводы\n",
    "\n",
    "- В Python абсолютно все является объектом, включая функции. Их можно присваивать переменным, хранить в структурах данных и передавать или возвращать в другие функции и возвращать из них (функции первого класса).\n",
    "- Функции первого класса позволяют абстрагироваться и раздавать линии поведения в ваших программах.\n",
    "- Функции могут быть вложенными, и они могут захватывать и уносить с собой часть состояния родительской функции. Функции, которые это делают, называются замыканиями.\n",
    "- Объекты можно делать вызываемыми. Во многих случаях это позволяет рассматривать их в качестве функций."
   ]
  }
 ],
 "metadata": {
  "kernelspec": {
   "display_name": "Python 3 (ipykernel)",
   "language": "python",
   "name": "python3"
  },
  "language_info": {
   "codemirror_mode": {
    "name": "ipython",
    "version": 3
   },
   "file_extension": ".py",
   "mimetype": "text/x-python",
   "name": "python",
   "nbconvert_exporter": "python",
   "pygments_lexer": "ipython3",
   "version": "3.8.6"
  }
 },
 "nbformat": 4,
 "nbformat_minor": 5
}
